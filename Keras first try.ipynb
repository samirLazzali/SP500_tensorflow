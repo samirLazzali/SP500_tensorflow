{
 "cells": [
  {
   "cell_type": "code",
   "execution_count": 65,
   "metadata": {},
   "outputs": [
    {
     "name": "stderr",
     "output_type": "stream",
     "text": [
      "\n",
      "Bad key \"text.kerning_factor\" on line 4 in\n",
      "C:\\Users\\hanna\\Anaconda2\\envs\\testenv\\lib\\site-packages\\matplotlib\\mpl-data\\stylelib\\_classic_test_patch.mplstyle.\n",
      "You probably need to get an updated matplotlibrc file from\n",
      "https://github.com/matplotlib/matplotlib/blob/v3.1.3/matplotlibrc.template\n",
      "or from the matplotlib source distribution\n"
     ]
    }
   ],
   "source": [
    "import pandas as pd\n",
    "from keras.models import Sequential\n",
    "from keras.layers import Dense, Dropout\n",
    "import numpy as np\n",
    "import matplotlib.pyplot as plt"
   ]
  },
  {
   "cell_type": "markdown",
   "metadata": {},
   "source": [
    "Le but de ce model est de prédire à partir d'autres stock une certaine stock afin de définir une potentielle anomalie niveau comportement par rapport aux autres stock. Nous avons choisi d'utiliser keras qui est l'API de tensorflow et plus user friendly surtout dans l'initialisation de l'architecture."
   ]
  },
  {
   "cell_type": "code",
   "execution_count": 161,
   "metadata": {},
   "outputs": [],
   "source": [
    "# Import data\n",
    "data = pd.read_csv('data_stocks.csv')\n",
    "# Drop date variable\n",
    "data = data.drop(['DATE'], 1)\n",
    "# Dimensions of dataset\n",
    "n = data.shape[0]\n",
    "p = data.shape[1]\n",
    "# Make data a numpy array\n",
    "df = data\n",
    "data = data.values"
   ]
  },
  {
   "cell_type": "markdown",
   "metadata": {},
   "source": [
    "On sépare notre base de donnée en base de données train pour faire l'entrainement et une base de données test afin d'éviter de l'overfitting. 80% de notre data est pris pour la base de données test alors que les 20% finaux sont conservées pour la bdd test"
   ]
  },
  {
   "cell_type": "code",
   "execution_count": 177,
   "metadata": {},
   "outputs": [
    {
     "data": {
      "text/html": [
       "<div>\n",
       "<style scoped>\n",
       "    .dataframe tbody tr th:only-of-type {\n",
       "        vertical-align: middle;\n",
       "    }\n",
       "\n",
       "    .dataframe tbody tr th {\n",
       "        vertical-align: top;\n",
       "    }\n",
       "\n",
       "    .dataframe thead th {\n",
       "        text-align: right;\n",
       "    }\n",
       "</style>\n",
       "<table border=\"1\" class=\"dataframe\">\n",
       "  <thead>\n",
       "    <tr style=\"text-align: right;\">\n",
       "      <th></th>\n",
       "      <th>DATE</th>\n",
       "      <th>SP500</th>\n",
       "      <th>NASDAQ.AAL</th>\n",
       "      <th>NASDAQ.AAPL</th>\n",
       "      <th>NASDAQ.ADBE</th>\n",
       "      <th>NASDAQ.ADI</th>\n",
       "      <th>NASDAQ.ADP</th>\n",
       "      <th>NASDAQ.ADSK</th>\n",
       "      <th>NASDAQ.AKAM</th>\n",
       "      <th>NASDAQ.ALXN</th>\n",
       "      <th>...</th>\n",
       "      <th>NYSE.WYN</th>\n",
       "      <th>NYSE.XEC</th>\n",
       "      <th>NYSE.XEL</th>\n",
       "      <th>NYSE.XL</th>\n",
       "      <th>NYSE.XOM</th>\n",
       "      <th>NYSE.XRX</th>\n",
       "      <th>NYSE.XYL</th>\n",
       "      <th>NYSE.YUM</th>\n",
       "      <th>NYSE.ZBH</th>\n",
       "      <th>NYSE.ZTS</th>\n",
       "    </tr>\n",
       "  </thead>\n",
       "  <tbody>\n",
       "    <tr>\n",
       "      <th>0</th>\n",
       "      <td>1491226200</td>\n",
       "      <td>2363.6101</td>\n",
       "      <td>42.3300</td>\n",
       "      <td>143.6800</td>\n",
       "      <td>129.6300</td>\n",
       "      <td>82.040</td>\n",
       "      <td>102.2300</td>\n",
       "      <td>85.2200</td>\n",
       "      <td>59.760</td>\n",
       "      <td>121.520</td>\n",
       "      <td>...</td>\n",
       "      <td>84.370</td>\n",
       "      <td>119.035</td>\n",
       "      <td>44.400</td>\n",
       "      <td>39.880</td>\n",
       "      <td>82.030</td>\n",
       "      <td>7.360</td>\n",
       "      <td>50.220</td>\n",
       "      <td>63.86</td>\n",
       "      <td>122.000</td>\n",
       "      <td>53.3500</td>\n",
       "    </tr>\n",
       "    <tr>\n",
       "      <th>1</th>\n",
       "      <td>1491226260</td>\n",
       "      <td>2364.1001</td>\n",
       "      <td>42.3600</td>\n",
       "      <td>143.7000</td>\n",
       "      <td>130.3200</td>\n",
       "      <td>82.080</td>\n",
       "      <td>102.1400</td>\n",
       "      <td>85.6500</td>\n",
       "      <td>59.840</td>\n",
       "      <td>121.480</td>\n",
       "      <td>...</td>\n",
       "      <td>84.370</td>\n",
       "      <td>119.035</td>\n",
       "      <td>44.110</td>\n",
       "      <td>39.880</td>\n",
       "      <td>82.030</td>\n",
       "      <td>7.380</td>\n",
       "      <td>50.220</td>\n",
       "      <td>63.74</td>\n",
       "      <td>121.770</td>\n",
       "      <td>53.3500</td>\n",
       "    </tr>\n",
       "    <tr>\n",
       "      <th>2</th>\n",
       "      <td>1491226320</td>\n",
       "      <td>2362.6799</td>\n",
       "      <td>42.3100</td>\n",
       "      <td>143.6901</td>\n",
       "      <td>130.2250</td>\n",
       "      <td>82.030</td>\n",
       "      <td>102.2125</td>\n",
       "      <td>85.5100</td>\n",
       "      <td>59.795</td>\n",
       "      <td>121.930</td>\n",
       "      <td>...</td>\n",
       "      <td>84.585</td>\n",
       "      <td>119.260</td>\n",
       "      <td>44.090</td>\n",
       "      <td>39.980</td>\n",
       "      <td>82.020</td>\n",
       "      <td>7.360</td>\n",
       "      <td>50.120</td>\n",
       "      <td>63.75</td>\n",
       "      <td>121.700</td>\n",
       "      <td>53.3650</td>\n",
       "    </tr>\n",
       "    <tr>\n",
       "      <th>3</th>\n",
       "      <td>1491226380</td>\n",
       "      <td>2364.3101</td>\n",
       "      <td>42.3700</td>\n",
       "      <td>143.6400</td>\n",
       "      <td>130.0729</td>\n",
       "      <td>82.000</td>\n",
       "      <td>102.1400</td>\n",
       "      <td>85.4872</td>\n",
       "      <td>59.620</td>\n",
       "      <td>121.440</td>\n",
       "      <td>...</td>\n",
       "      <td>84.460</td>\n",
       "      <td>119.260</td>\n",
       "      <td>44.250</td>\n",
       "      <td>39.990</td>\n",
       "      <td>82.020</td>\n",
       "      <td>7.350</td>\n",
       "      <td>50.160</td>\n",
       "      <td>63.88</td>\n",
       "      <td>121.700</td>\n",
       "      <td>53.3800</td>\n",
       "    </tr>\n",
       "    <tr>\n",
       "      <th>4</th>\n",
       "      <td>1491226440</td>\n",
       "      <td>2364.8501</td>\n",
       "      <td>42.5378</td>\n",
       "      <td>143.6600</td>\n",
       "      <td>129.8800</td>\n",
       "      <td>82.035</td>\n",
       "      <td>102.0600</td>\n",
       "      <td>85.7001</td>\n",
       "      <td>59.620</td>\n",
       "      <td>121.600</td>\n",
       "      <td>...</td>\n",
       "      <td>84.470</td>\n",
       "      <td>119.610</td>\n",
       "      <td>44.110</td>\n",
       "      <td>39.960</td>\n",
       "      <td>82.030</td>\n",
       "      <td>7.360</td>\n",
       "      <td>50.200</td>\n",
       "      <td>63.91</td>\n",
       "      <td>121.695</td>\n",
       "      <td>53.2400</td>\n",
       "    </tr>\n",
       "    <tr>\n",
       "      <th>...</th>\n",
       "      <td>...</td>\n",
       "      <td>...</td>\n",
       "      <td>...</td>\n",
       "      <td>...</td>\n",
       "      <td>...</td>\n",
       "      <td>...</td>\n",
       "      <td>...</td>\n",
       "      <td>...</td>\n",
       "      <td>...</td>\n",
       "      <td>...</td>\n",
       "      <td>...</td>\n",
       "      <td>...</td>\n",
       "      <td>...</td>\n",
       "      <td>...</td>\n",
       "      <td>...</td>\n",
       "      <td>...</td>\n",
       "      <td>...</td>\n",
       "      <td>...</td>\n",
       "      <td>...</td>\n",
       "      <td>...</td>\n",
       "      <td>...</td>\n",
       "    </tr>\n",
       "    <tr>\n",
       "      <th>41261</th>\n",
       "      <td>1504209360</td>\n",
       "      <td>2472.2200</td>\n",
       "      <td>44.7200</td>\n",
       "      <td>164.1100</td>\n",
       "      <td>155.0900</td>\n",
       "      <td>83.670</td>\n",
       "      <td>106.5650</td>\n",
       "      <td>114.4900</td>\n",
       "      <td>47.150</td>\n",
       "      <td>142.425</td>\n",
       "      <td>...</td>\n",
       "      <td>99.675</td>\n",
       "      <td>99.530</td>\n",
       "      <td>49.485</td>\n",
       "      <td>40.955</td>\n",
       "      <td>76.360</td>\n",
       "      <td>32.285</td>\n",
       "      <td>62.110</td>\n",
       "      <td>76.88</td>\n",
       "      <td>114.310</td>\n",
       "      <td>62.7250</td>\n",
       "    </tr>\n",
       "    <tr>\n",
       "      <th>41262</th>\n",
       "      <td>1504209420</td>\n",
       "      <td>2471.7700</td>\n",
       "      <td>44.7300</td>\n",
       "      <td>164.1200</td>\n",
       "      <td>155.1600</td>\n",
       "      <td>83.650</td>\n",
       "      <td>106.5900</td>\n",
       "      <td>114.5200</td>\n",
       "      <td>47.150</td>\n",
       "      <td>142.450</td>\n",
       "      <td>...</td>\n",
       "      <td>99.730</td>\n",
       "      <td>99.630</td>\n",
       "      <td>49.480</td>\n",
       "      <td>40.960</td>\n",
       "      <td>76.370</td>\n",
       "      <td>32.295</td>\n",
       "      <td>62.100</td>\n",
       "      <td>76.90</td>\n",
       "      <td>114.330</td>\n",
       "      <td>62.7100</td>\n",
       "    </tr>\n",
       "    <tr>\n",
       "      <th>41263</th>\n",
       "      <td>1504209480</td>\n",
       "      <td>2470.0300</td>\n",
       "      <td>44.7400</td>\n",
       "      <td>164.0100</td>\n",
       "      <td>155.0650</td>\n",
       "      <td>83.620</td>\n",
       "      <td>106.5200</td>\n",
       "      <td>114.4700</td>\n",
       "      <td>47.150</td>\n",
       "      <td>142.330</td>\n",
       "      <td>...</td>\n",
       "      <td>99.735</td>\n",
       "      <td>99.640</td>\n",
       "      <td>49.495</td>\n",
       "      <td>40.940</td>\n",
       "      <td>76.315</td>\n",
       "      <td>32.290</td>\n",
       "      <td>62.090</td>\n",
       "      <td>76.88</td>\n",
       "      <td>114.310</td>\n",
       "      <td>62.6850</td>\n",
       "    </tr>\n",
       "    <tr>\n",
       "      <th>41264</th>\n",
       "      <td>1504209540</td>\n",
       "      <td>2471.4900</td>\n",
       "      <td>44.7100</td>\n",
       "      <td>163.8800</td>\n",
       "      <td>154.9600</td>\n",
       "      <td>83.580</td>\n",
       "      <td>106.4000</td>\n",
       "      <td>114.3300</td>\n",
       "      <td>47.135</td>\n",
       "      <td>142.170</td>\n",
       "      <td>...</td>\n",
       "      <td>99.700</td>\n",
       "      <td>99.630</td>\n",
       "      <td>49.485</td>\n",
       "      <td>40.925</td>\n",
       "      <td>76.300</td>\n",
       "      <td>32.275</td>\n",
       "      <td>62.075</td>\n",
       "      <td>76.83</td>\n",
       "      <td>114.230</td>\n",
       "      <td>62.6301</td>\n",
       "    </tr>\n",
       "    <tr>\n",
       "      <th>41265</th>\n",
       "      <td>1504209600</td>\n",
       "      <td>2471.4900</td>\n",
       "      <td>44.7400</td>\n",
       "      <td>163.9800</td>\n",
       "      <td>155.1600</td>\n",
       "      <td>83.690</td>\n",
       "      <td>106.4700</td>\n",
       "      <td>114.4600</td>\n",
       "      <td>47.150</td>\n",
       "      <td>142.410</td>\n",
       "      <td>...</td>\n",
       "      <td>99.670</td>\n",
       "      <td>99.640</td>\n",
       "      <td>49.490</td>\n",
       "      <td>40.940</td>\n",
       "      <td>76.320</td>\n",
       "      <td>32.270</td>\n",
       "      <td>62.070</td>\n",
       "      <td>76.81</td>\n",
       "      <td>114.280</td>\n",
       "      <td>62.6800</td>\n",
       "    </tr>\n",
       "  </tbody>\n",
       "</table>\n",
       "<p>41266 rows × 502 columns</p>\n",
       "</div>"
      ],
      "text/plain": [
       "             DATE      SP500  NASDAQ.AAL  NASDAQ.AAPL  NASDAQ.ADBE  \\\n",
       "0      1491226200  2363.6101     42.3300     143.6800     129.6300   \n",
       "1      1491226260  2364.1001     42.3600     143.7000     130.3200   \n",
       "2      1491226320  2362.6799     42.3100     143.6901     130.2250   \n",
       "3      1491226380  2364.3101     42.3700     143.6400     130.0729   \n",
       "4      1491226440  2364.8501     42.5378     143.6600     129.8800   \n",
       "...           ...        ...         ...          ...          ...   \n",
       "41261  1504209360  2472.2200     44.7200     164.1100     155.0900   \n",
       "41262  1504209420  2471.7700     44.7300     164.1200     155.1600   \n",
       "41263  1504209480  2470.0300     44.7400     164.0100     155.0650   \n",
       "41264  1504209540  2471.4900     44.7100     163.8800     154.9600   \n",
       "41265  1504209600  2471.4900     44.7400     163.9800     155.1600   \n",
       "\n",
       "       NASDAQ.ADI  NASDAQ.ADP  NASDAQ.ADSK  NASDAQ.AKAM  NASDAQ.ALXN  ...  \\\n",
       "0          82.040    102.2300      85.2200       59.760      121.520  ...   \n",
       "1          82.080    102.1400      85.6500       59.840      121.480  ...   \n",
       "2          82.030    102.2125      85.5100       59.795      121.930  ...   \n",
       "3          82.000    102.1400      85.4872       59.620      121.440  ...   \n",
       "4          82.035    102.0600      85.7001       59.620      121.600  ...   \n",
       "...           ...         ...          ...          ...          ...  ...   \n",
       "41261      83.670    106.5650     114.4900       47.150      142.425  ...   \n",
       "41262      83.650    106.5900     114.5200       47.150      142.450  ...   \n",
       "41263      83.620    106.5200     114.4700       47.150      142.330  ...   \n",
       "41264      83.580    106.4000     114.3300       47.135      142.170  ...   \n",
       "41265      83.690    106.4700     114.4600       47.150      142.410  ...   \n",
       "\n",
       "       NYSE.WYN  NYSE.XEC  NYSE.XEL  NYSE.XL  NYSE.XOM  NYSE.XRX  NYSE.XYL  \\\n",
       "0        84.370   119.035    44.400   39.880    82.030     7.360    50.220   \n",
       "1        84.370   119.035    44.110   39.880    82.030     7.380    50.220   \n",
       "2        84.585   119.260    44.090   39.980    82.020     7.360    50.120   \n",
       "3        84.460   119.260    44.250   39.990    82.020     7.350    50.160   \n",
       "4        84.470   119.610    44.110   39.960    82.030     7.360    50.200   \n",
       "...         ...       ...       ...      ...       ...       ...       ...   \n",
       "41261    99.675    99.530    49.485   40.955    76.360    32.285    62.110   \n",
       "41262    99.730    99.630    49.480   40.960    76.370    32.295    62.100   \n",
       "41263    99.735    99.640    49.495   40.940    76.315    32.290    62.090   \n",
       "41264    99.700    99.630    49.485   40.925    76.300    32.275    62.075   \n",
       "41265    99.670    99.640    49.490   40.940    76.320    32.270    62.070   \n",
       "\n",
       "       NYSE.YUM  NYSE.ZBH  NYSE.ZTS  \n",
       "0         63.86   122.000   53.3500  \n",
       "1         63.74   121.770   53.3500  \n",
       "2         63.75   121.700   53.3650  \n",
       "3         63.88   121.700   53.3800  \n",
       "4         63.91   121.695   53.2400  \n",
       "...         ...       ...       ...  \n",
       "41261     76.88   114.310   62.7250  \n",
       "41262     76.90   114.330   62.7100  \n",
       "41263     76.88   114.310   62.6850  \n",
       "41264     76.83   114.230   62.6301  \n",
       "41265     76.81   114.280   62.6800  \n",
       "\n",
       "[41266 rows x 502 columns]"
      ]
     },
     "execution_count": 177,
     "metadata": {},
     "output_type": "execute_result"
    }
   ],
   "source": [
    "pd.read_csv('data_stocks.csv')"
   ]
  },
  {
   "cell_type": "code",
   "execution_count": 162,
   "metadata": {},
   "outputs": [],
   "source": [
    "# Training and test data\n",
    "train_start = 0\n",
    "train_end = int(np.floor(0.8*n))\n",
    "test_start = train_end\n",
    "test_end = n\n",
    "data_train = data[np.arange(train_start, train_end), :]\n",
    "data_test = data[np.arange(test_start, test_end), :]\n"
   ]
  },
  {
   "cell_type": "markdown",
   "metadata": {},
   "source": [
    "Afin de set nos données nous avons scale les informations pour les initializer et scale les données test en fonction de ces données de train"
   ]
  },
  {
   "cell_type": "code",
   "execution_count": 163,
   "metadata": {},
   "outputs": [],
   "source": [
    "# Scale data\n",
    "from sklearn.preprocessing import MinMaxScaler\n",
    "scaler = MinMaxScaler()\n",
    "data_train = scaler.fit_transform(data_train)\n",
    "data_test = scaler.transform(data_test)\n",
    "# Build X and y\n",
    "X_train = data_train[:, 1:]\n",
    "y_train = data_train[:, 0]\n",
    "X_test = data_test[:, 1:]\n",
    "y_test = data_test[:, 0]"
   ]
  },
  {
   "cell_type": "markdown",
   "metadata": {},
   "source": [
    "Notre réseau de données a une architecture de 4 hidden layers (1024,512,256,126) avec comme fonction d'activation 'relu' avec un dropout de 0.1 qui réduit l'overfitting et nous renvoie un mse diminué par rapport à un model sans dropout."
   ]
  },
  {
   "cell_type": "code",
   "execution_count": 164,
   "metadata": {},
   "outputs": [],
   "source": [
    "model = Sequential()\n",
    "model.add(Dense(1024, input_dim=500, activation='relu'))\n",
    "model.add(Dropout(0.1))\n",
    "model.add(Dense(512, activation='relu'))\n",
    "model.add(Dense(256, activation='relu'))\n",
    "model.add(Dense(128, activation='relu'))\n",
    "model.add(Dense(1, activation='relu'))"
   ]
  },
  {
   "cell_type": "markdown",
   "metadata": {},
   "source": [
    "Comme la variable cible est une variable continue et on cherche une relation linéaire, nous avons décidé de prendre comme loss MSE avec comme optimizer ADAM afin d'avoir un gradient déscendant ni trop lent ni trop rapide et ne pas être coincé dans un point selle"
   ]
  },
  {
   "cell_type": "code",
   "execution_count": 165,
   "metadata": {},
   "outputs": [],
   "source": [
    "model.compile(loss='mse', optimizer='adam', metrics=['mse'])"
   ]
  },
  {
   "cell_type": "markdown",
   "metadata": {},
   "source": [
    "On fait fit notre model avec un propagation et une retropropagation avec 10 itération de toute la données sur des batches de tailles 256 afin de réaliser notre apprentissage plus rapidement et de réaliser plus d'apprentissage."
   ]
  },
  {
   "cell_type": "code",
   "execution_count": 166,
   "metadata": {},
   "outputs": [
    {
     "name": "stdout",
     "output_type": "stream",
     "text": [
      "Epoch 1/20\n",
      "33012/33012 [==============================] - 5s 144us/step - loss: 0.0340 - mse: 0.0340\n",
      "Epoch 2/20\n",
      "33012/33012 [==============================] - 4s 127us/step - loss: 8.8131e-04 - mse: 8.8131e-04\n",
      "Epoch 3/20\n",
      "33012/33012 [==============================] - 4s 127us/step - loss: 7.0864e-04 - mse: 7.0864e-04\n",
      "Epoch 4/20\n",
      "33012/33012 [==============================] - 4s 136us/step - loss: 7.1547e-04 - mse: 7.1547e-04\n",
      "Epoch 5/20\n",
      "33012/33012 [==============================] - 4s 130us/step - loss: 4.3933e-04 - mse: 4.3933e-04\n",
      "Epoch 6/20\n",
      "33012/33012 [==============================] - 4s 131us/step - loss: 4.5281e-04 - mse: 4.5281e-04\n",
      "Epoch 7/20\n",
      "33012/33012 [==============================] - 4s 123us/step - loss: 4.3963e-04 - mse: 4.3963e-04\n",
      "Epoch 8/20\n",
      "33012/33012 [==============================] - 4s 126us/step - loss: 3.8030e-04 - mse: 3.8030e-04\n",
      "Epoch 9/20\n",
      "33012/33012 [==============================] - 4s 130us/step - loss: 3.1911e-04 - mse: 3.1911e-04\n",
      "Epoch 10/20\n",
      "33012/33012 [==============================] - 4s 127us/step - loss: 2.9233e-04 - mse: 2.9233e-04\n",
      "Epoch 11/20\n",
      "33012/33012 [==============================] - 4s 124us/step - loss: 5.6532e-04 - mse: 5.6532e-04\n",
      "Epoch 12/20\n",
      "33012/33012 [==============================] - 4s 123us/step - loss: 3.1017e-04 - mse: 3.1017e-04\n",
      "Epoch 13/20\n",
      "33012/33012 [==============================] - 4s 123us/step - loss: 2.9448e-04 - mse: 2.9448e-04\n",
      "Epoch 14/20\n",
      "33012/33012 [==============================] - 4s 124us/step - loss: 2.7074e-04 - mse: 2.7074e-04\n",
      "Epoch 15/20\n",
      "33012/33012 [==============================] - 4s 130us/step - loss: 2.1284e-04 - mse: 2.1284e-04\n",
      "Epoch 16/20\n",
      "33012/33012 [==============================] - 4s 123us/step - loss: 2.3888e-04 - mse: 2.3888e-04\n",
      "Epoch 17/20\n",
      "33012/33012 [==============================] - 4s 124us/step - loss: 2.1296e-04 - mse: 2.1296e-04\n",
      "Epoch 18/20\n",
      "33012/33012 [==============================] - 4s 124us/step - loss: 1.8577e-04 - mse: 1.8577e-04\n",
      "Epoch 19/20\n",
      "33012/33012 [==============================] - 4s 123us/step - loss: 2.3424e-04 - mse: 2.3424e-04\n",
      "Epoch 20/20\n",
      "33012/33012 [==============================] - 4s 123us/step - loss: 2.3734e-04 - mse: 2.3734e-04 2s - lo\n"
     ]
    },
    {
     "data": {
      "text/plain": [
       "<keras.callbacks.callbacks.History at 0x1c113b1b408>"
      ]
     },
     "execution_count": 166,
     "metadata": {},
     "output_type": "execute_result"
    }
   ],
   "source": [
    "model.fit(X_train, y_train, epochs=20, batch_size=256)"
   ]
  },
  {
   "cell_type": "code",
   "execution_count": 167,
   "metadata": {},
   "outputs": [
    {
     "name": "stdout",
     "output_type": "stream",
     "text": [
      "8254/8254 [==============================] - 1s 127us/step\n",
      "MSE: 0.002406\n"
     ]
    }
   ],
   "source": [
    "_, accuracy = model.evaluate(X_test, y_test)\n",
    "print('MSE: %.6f' % (accuracy))\n",
    "pred_test = model.predict(X_test)\n",
    "pred_train = model.predict(X_train)"
   ]
  },
  {
   "cell_type": "code",
   "execution_count": 168,
   "metadata": {},
   "outputs": [
    {
     "data": {
      "text/plain": [
       "<matplotlib.collections.PathCollection at 0x1c113c47a48>"
      ]
     },
     "execution_count": 168,
     "metadata": {},
     "output_type": "execute_result"
    },
    {
     "data": {
      "image/png": "[encoded data removed]",
      "text/plain": [
       "<Figure size 432x288 with 1 Axes>"
      ]
     },
     "metadata": {
      "needs_background": "light"
     },
     "output_type": "display_data"
    }
   ],
   "source": [
    "plt.scatter(y_test,pred_test, s=1)"
   ]
  },
  {
   "cell_type": "code",
   "execution_count": 169,
   "metadata": {},
   "outputs": [
    {
     "data": {
      "text/plain": [
       "[<matplotlib.lines.Line2D at 0x1c113c7c708>]"
      ]
     },
     "execution_count": 169,
     "metadata": {},
     "output_type": "execute_result"
    },
    {
     "data": {
      "image/png": "[encoded data removed]",
      "text/plain": [
       "<Figure size 432x288 with 1 Axes>"
      ]
     },
     "metadata": {
      "needs_background": "light"
     },
     "output_type": "display_data"
    }
   ],
   "source": [
    "plt.plot(y_train)\n",
    "plt.plot(pred_train)"
   ]
  },
  {
   "cell_type": "code",
   "execution_count": 170,
   "metadata": {},
   "outputs": [
    {
     "data": {
      "text/plain": [
       "[<matplotlib.lines.Line2D at 0x1c113ce2508>]"
      ]
     },
     "execution_count": 170,
     "metadata": {},
     "output_type": "execute_result"
    },
    {
     "data": {
      "image/png": "[encoded data removed]",
      "text/plain": [
       "<Figure size 432x288 with 1 Axes>"
      ]
     },
     "metadata": {
      "needs_background": "light"
     },
     "output_type": "display_data"
    }
   ],
   "source": [
    "plt.plot(y_test)\n",
    "plt.plot(pred_test)"
   ]
  },
  {
   "cell_type": "markdown",
   "metadata": {},
   "source": [
    "On valide au bout de quel seuil, on considère qu'il est conseillé d'acheter ou de vendre "
   ]
  },
  {
   "cell_type": "code",
   "execution_count": 171,
   "metadata": {},
   "outputs": [],
   "source": [
    "buy = -0.03\n",
    "sell = 0.06"
   ]
  },
  {
   "cell_type": "code",
   "execution_count": 172,
   "metadata": {},
   "outputs": [],
   "source": [
    "error = [a_i - b_i for a_i, b_i in zip(y_test, pred_test)]\n",
    "go_buy = [i < buy for i in error]\n",
    "go_sell = [i > sell for i in error]"
   ]
  },
  {
   "cell_type": "code",
   "execution_count": 173,
   "metadata": {},
   "outputs": [
    {
     "data": {
      "text/plain": [
       "<matplotlib.legend.Legend at 0x1c113961148>"
      ]
     },
     "execution_count": 173,
     "metadata": {},
     "output_type": "execute_result"
    },
    {
     "data": {
      "image/png": "[encoded data removed]",
      "text/plain": [
       "<Figure size 432x288 with 1 Axes>"
      ]
     },
     "metadata": {
      "needs_background": "light"
     },
     "output_type": "display_data"
    }
   ],
   "source": []
  },
  {
   "cell_type": "code",
   "execution_count": 174,
   "metadata": {},
   "outputs": [],
   "source": [
    "y_test_unnormalized=scaler.inverse_transform(data_test)[:, 0]"
   ]
  },
  {
   "cell_type": "code",
   "execution_count": 175,
   "metadata": {},
   "outputs": [
    {
     "data": {
      "text/plain": [
       "<matplotlib.legend.Legend at 0x1c114638348>"
      ]
     },
     "execution_count": 175,
     "metadata": {},
     "output_type": "execute_result"
    },
    {
     "data": {
      "image/png": "[encoded data removed]",
      "text/plain": [
       "<Figure size 432x288 with 1 Axes>"
      ]
     },
     "metadata": {
      "needs_background": "light"
     },
     "output_type": "display_data"
    }
   ],
   "source": [
    "df = pd.DataFrame()\n",
    "df['stock'] = y_test_unnormalized\n",
    "df['error'] = error\n",
    "df['label'] = 'no instruction'\n",
    "df.loc[df['error'] > sell, 'label'] = 'sell instruction'\n",
    "df.loc[df['error'] < buy, 'label'] = 'buy instruction'\n",
    "label2color = {\n",
    "    'buy instruction': 'green',\n",
    "    'no instruction': 'yellow',\n",
    "    'sell instruction': 'red'\n",
    "}\n",
    "df['color'] = df['label'].apply(lambda label: label2color[label])\n",
    "fig, ax = plt.subplots()\n",
    "\n",
    "def gen_repeating(s):\n",
    "    \"\"\"Generator: groups repeated elements in an iterable\n",
    "    E.g.\n",
    "        'abbccc' -> [('a', 0, 0), ('b', 1, 2), ('c', 3, 5)]\n",
    "    \"\"\"\n",
    "    i = 0\n",
    "    while i < len(s):\n",
    "        j = i\n",
    "        while j < len(s) and s[j] == s[i]:\n",
    "            j += 1\n",
    "        yield (s[i], i, j-1)\n",
    "        i = j\n",
    "\n",
    "## Add px_last lines\n",
    "for color, start, end in gen_repeating(df['color']):\n",
    "    if start > 0: # make sure lines connect\n",
    "        start -= 1\n",
    "    idx = df.index[start:end+1]\n",
    "    df.loc[idx, 'stock'].plot(ax=ax, color=color, label='')\n",
    "    handles, labels = ax.get_legend_handles_labels()\n",
    "\n",
    "## Create custom artists\n",
    "g_line = plt.Line2D((0,1),(0,0), color='green')\n",
    "y_line = plt.Line2D((0,1),(0,0), color='yellow')\n",
    "r_line = plt.Line2D((0,1),(0,0), color='red')\n",
    "ax.legend(\n",
    "    handles + [g_line, y_line,r_line],\n",
    "    labels + [\n",
    "        'buy instruction',\n",
    "        'no instruction',\n",
    "        'sell instruction'\n",
    "    ],\n",
    "    loc='best',\n",
    ")"
   ]
  },
  {
   "cell_type": "markdown",
   "metadata": {},
   "source": [
    "Ces instructions sont basées sur l'estimation du stock en fonction des autres et voir si elle est sous estimée par rapport à son environnement ou surestimée. On voit que hors pic et augmentation soudaine l'estimation d'instruction est plutot intéressante sur le long terme sur la base test et permet de donner une instruction qui s'avère efficace pour l'avenir hore gestion des evenements temporels tel qu'une hausse et une baisse soudaine.\n"
   ]
  }
 ],
 "metadata": {
  "kernelspec": {
   "display_name": "Python 3",
   "language": "python",
   "name": "python3"
  },
  "language_info": {
   "codemirror_mode": {
    "name": "ipython",
    "version": 3
   },
   "file_extension": ".py",
   "mimetype": "text/x-python",
   "name": "python",
   "nbconvert_exporter": "python",
   "pygments_lexer": "ipython3",
   "version": "3.7.7"
  }
 },
 "nbformat": 4,
 "nbformat_minor": 4
}
